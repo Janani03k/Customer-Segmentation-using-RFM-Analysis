{
 "cells": [
  {
   "cell_type": "markdown",
   "id": "1f9e7b36",
   "metadata": {},
   "source": [
    "## Customer Segmentation using RFM Analysis\n",
    "\n",
    "### Project 2 Code\n",
    "\n",
    "### Group Number  17\n",
    "\n",
    "1. Janani Karthikeyan (002830003)\n",
    "2. Milan Gurumurthy (002833029)\n",
    "3. Prathyusha Adhikam (002835277)\n",
    "4. Saathvika Kethineni (002893814)\n",
    "5. Shreyas Sreenivas (002825934)\n",
    "\n",
    "                                                                                        Submitted to: Sivarit Sultornsanee \n",
    "                                                                                        Submitted Date: November 30th, 2023"
   ]
  },
  {
   "cell_type": "code",
   "execution_count": 60,
   "id": "c0d5c4f5",
   "metadata": {},
   "outputs": [],
   "source": [
    "# import statements\n",
    "import pandas as pd\n",
    "import numpy as np\n",
    "import matplotlib.pyplot as plt\n",
    "import seaborn as sns\n",
    "import datetime as dt\n",
    "import warnings\n",
    "from sklearn.preprocessing import StandardScaler\n",
    "from sklearn.cluster import KMeans\n",
    "\n",
    "warnings.filterwarnings('ignore')\n"
   ]
  },
  {
   "cell_type": "code",
   "execution_count": 61,
   "id": "97f93af9",
   "metadata": {},
   "outputs": [],
   "source": [
    "# To read the csv file\n",
    "df = pd.read_csv(r\"D:\\Documents\\Prof_Docs\\FDA\\Projects\\Project 2\\data.csv\", encoding = 'unicode_escape')"
   ]
  },
  {
   "cell_type": "markdown",
   "id": "462ce56e",
   "metadata": {},
   "source": [
    "#### 1. Data Overview"
   ]
  },
  {
   "cell_type": "code",
   "execution_count": 62,
   "id": "bb78c162",
   "metadata": {},
   "outputs": [
    {
     "data": {
      "text/html": [
       "<div>\n",
       "<style scoped>\n",
       "    .dataframe tbody tr th:only-of-type {\n",
       "        vertical-align: middle;\n",
       "    }\n",
       "\n",
       "    .dataframe tbody tr th {\n",
       "        vertical-align: top;\n",
       "    }\n",
       "\n",
       "    .dataframe thead th {\n",
       "        text-align: right;\n",
       "    }\n",
       "</style>\n",
       "<table border=\"1\" class=\"dataframe\">\n",
       "  <thead>\n",
       "    <tr style=\"text-align: right;\">\n",
       "      <th></th>\n",
       "      <th>InvoiceNo</th>\n",
       "      <th>StockCode</th>\n",
       "      <th>Description</th>\n",
       "      <th>Quantity</th>\n",
       "      <th>InvoiceDate</th>\n",
       "      <th>UnitPrice</th>\n",
       "      <th>CustomerID</th>\n",
       "      <th>Country</th>\n",
       "    </tr>\n",
       "  </thead>\n",
       "  <tbody>\n",
       "    <tr>\n",
       "      <th>0</th>\n",
       "      <td>536365</td>\n",
       "      <td>85123A</td>\n",
       "      <td>WHITE HANGING HEART T-LIGHT HOLDER</td>\n",
       "      <td>6</td>\n",
       "      <td>12/1/2010 8:26</td>\n",
       "      <td>2.55</td>\n",
       "      <td>17850.0</td>\n",
       "      <td>United Kingdom</td>\n",
       "    </tr>\n",
       "    <tr>\n",
       "      <th>1</th>\n",
       "      <td>536365</td>\n",
       "      <td>71053</td>\n",
       "      <td>WHITE METAL LANTERN</td>\n",
       "      <td>6</td>\n",
       "      <td>12/1/2010 8:26</td>\n",
       "      <td>3.39</td>\n",
       "      <td>17850.0</td>\n",
       "      <td>United Kingdom</td>\n",
       "    </tr>\n",
       "    <tr>\n",
       "      <th>2</th>\n",
       "      <td>536365</td>\n",
       "      <td>84406B</td>\n",
       "      <td>CREAM CUPID HEARTS COAT HANGER</td>\n",
       "      <td>8</td>\n",
       "      <td>12/1/2010 8:26</td>\n",
       "      <td>2.75</td>\n",
       "      <td>17850.0</td>\n",
       "      <td>United Kingdom</td>\n",
       "    </tr>\n",
       "    <tr>\n",
       "      <th>3</th>\n",
       "      <td>536365</td>\n",
       "      <td>84029G</td>\n",
       "      <td>KNITTED UNION FLAG HOT WATER BOTTLE</td>\n",
       "      <td>6</td>\n",
       "      <td>12/1/2010 8:26</td>\n",
       "      <td>3.39</td>\n",
       "      <td>17850.0</td>\n",
       "      <td>United Kingdom</td>\n",
       "    </tr>\n",
       "    <tr>\n",
       "      <th>4</th>\n",
       "      <td>536365</td>\n",
       "      <td>84029E</td>\n",
       "      <td>RED WOOLLY HOTTIE WHITE HEART.</td>\n",
       "      <td>6</td>\n",
       "      <td>12/1/2010 8:26</td>\n",
       "      <td>3.39</td>\n",
       "      <td>17850.0</td>\n",
       "      <td>United Kingdom</td>\n",
       "    </tr>\n",
       "  </tbody>\n",
       "</table>\n",
       "</div>"
      ],
      "text/plain": [
       "  InvoiceNo StockCode                          Description  Quantity  \\\n",
       "0    536365    85123A   WHITE HANGING HEART T-LIGHT HOLDER         6   \n",
       "1    536365     71053                  WHITE METAL LANTERN         6   \n",
       "2    536365    84406B       CREAM CUPID HEARTS COAT HANGER         8   \n",
       "3    536365    84029G  KNITTED UNION FLAG HOT WATER BOTTLE         6   \n",
       "4    536365    84029E       RED WOOLLY HOTTIE WHITE HEART.         6   \n",
       "\n",
       "      InvoiceDate  UnitPrice  CustomerID         Country  \n",
       "0  12/1/2010 8:26       2.55     17850.0  United Kingdom  \n",
       "1  12/1/2010 8:26       3.39     17850.0  United Kingdom  \n",
       "2  12/1/2010 8:26       2.75     17850.0  United Kingdom  \n",
       "3  12/1/2010 8:26       3.39     17850.0  United Kingdom  \n",
       "4  12/1/2010 8:26       3.39     17850.0  United Kingdom  "
      ]
     },
     "execution_count": 62,
     "metadata": {},
     "output_type": "execute_result"
    }
   ],
   "source": [
    "# To get an overview of the data\n",
    "df.head()"
   ]
  },
  {
   "cell_type": "code",
   "execution_count": 63,
   "id": "bc675e35",
   "metadata": {},
   "outputs": [
    {
     "data": {
      "text/plain": [
       "InvoiceNo      0\n",
       "StockCode      0\n",
       "Description    0\n",
       "Quantity       0\n",
       "InvoiceDate    0\n",
       "UnitPrice      0\n",
       "CustomerID     0\n",
       "Country        0\n",
       "dtype: int64"
      ]
     },
     "execution_count": 63,
     "metadata": {},
     "output_type": "execute_result"
    }
   ],
   "source": [
    "# To handle missing values\n",
    "df.dropna(inplace=True)\n",
    "df.isnull().sum()"
   ]
  },
  {
   "cell_type": "markdown",
   "id": "56d32a7a",
   "metadata": {},
   "source": [
    "1. What is the size of the dataset in terms of the number of rows and columns?"
   ]
  },
  {
   "cell_type": "code",
   "execution_count": 64,
   "id": "6a51f820",
   "metadata": {},
   "outputs": [
    {
     "name": "stdout",
     "output_type": "stream",
     "text": [
      "The number of rows are: 406829\n",
      "The number of columns are: 8\n"
     ]
    }
   ],
   "source": [
    "# To get the size of the dataset\n",
    "print('The number of rows are:',df.shape[0])\n",
    "print('The number of columns are:',df.shape[1])"
   ]
  },
  {
   "cell_type": "markdown",
   "id": "72309616",
   "metadata": {},
   "source": [
    "2. Can you provide a brief description of each column in the dataset?"
   ]
  },
  {
   "cell_type": "code",
   "execution_count": 65,
   "id": "d0a21960",
   "metadata": {},
   "outputs": [
    {
     "data": {
      "text/plain": [
       "InvoiceNo       object\n",
       "StockCode       object\n",
       "Description     object\n",
       "Quantity         int64\n",
       "InvoiceDate     object\n",
       "UnitPrice      float64\n",
       "CustomerID     float64\n",
       "Country         object\n",
       "dtype: object"
      ]
     },
     "execution_count": 65,
     "metadata": {},
     "output_type": "execute_result"
    }
   ],
   "source": [
    "# to get a brief description of each column in the dataset\n",
    "df.dtypes"
   ]
  },
  {
   "cell_type": "markdown",
   "id": "384bece9",
   "metadata": {},
   "source": [
    "1. InvoiceNo: A six-digit number storing the details of the transaction. A cancellation if it begins with the letter \"c\".\n",
    "\n",
    "2. StockCode: A code which defines the product which has been sold.\n",
    "\n",
    "3. Description: Product name\n",
    "\n",
    "4. Quantity: The quantities of each product per transaction\n",
    "\n",
    "5. InvoiceDate: Shows the time and day that each transaction was created.\n",
    "\n",
    "6. UnitPrice: Product price per unit.\n",
    "\n",
    "7. CustomerID: A unique number designated to each customer.\n",
    "\n",
    "8. Country: Name of the country where each customer resides."
   ]
  },
  {
   "cell_type": "code",
   "execution_count": 66,
   "id": "30071bb9",
   "metadata": {},
   "outputs": [
    {
     "data": {
      "text/plain": [
       "array(['536365', '536366', '536367', ..., '581585', '581586', '581587'],\n",
       "      dtype=object)"
      ]
     },
     "execution_count": 66,
     "metadata": {},
     "output_type": "execute_result"
    }
   ],
   "source": [
    "# Unique InvoiceNo Values\n",
    "df['InvoiceNo'].unique()"
   ]
  },
  {
   "cell_type": "markdown",
   "id": "43d787b4",
   "metadata": {},
   "source": [
    "3. What is the time period covered by this dataset?"
   ]
  },
  {
   "cell_type": "code",
   "execution_count": 67,
   "id": "c85a713d",
   "metadata": {},
   "outputs": [],
   "source": [
    "# Converting the date datatype to datetime\n",
    "df['DATE'] = pd.to_datetime(df['InvoiceDate'])"
   ]
  },
  {
   "cell_type": "code",
   "execution_count": 68,
   "id": "071c4bd7",
   "metadata": {},
   "outputs": [
    {
     "name": "stdout",
     "output_type": "stream",
     "text": [
      "The dataset contains data starting from 1/10/2011 10:32 to 9/9/2011 9:52\n"
     ]
    }
   ],
   "source": [
    "# Extracting the minimum date from the 'InvoiceDate' column in the DataFrame (df)\n",
    "min_date = min(df['InvoiceDate'])\n",
    "\n",
    "# Extracting the maximum date from the 'InvoiceDate' column in the DataFrame (df)\n",
    "max_date = max(df['InvoiceDate'])\n",
    "\n",
    "# Printing a message to display the range of dates in the dataset\n",
    "print(\"The dataset contains data starting from\", min_date, 'to', max_date)"
   ]
  },
  {
   "cell_type": "markdown",
   "id": "d63fa472",
   "metadata": {},
   "source": [
    "#### 2. Customer Analysis"
   ]
  },
  {
   "cell_type": "markdown",
   "id": "d60f90b7",
   "metadata": {},
   "source": [
    "1. How many unique customers are there in the dataset?"
   ]
  },
  {
   "cell_type": "code",
   "execution_count": 69,
   "id": "a14768f8",
   "metadata": {},
   "outputs": [
    {
     "name": "stdout",
     "output_type": "stream",
     "text": [
      "The number of unique customers are: 4372\n"
     ]
    }
   ],
   "source": [
    "# Calculate the number of unique customers in the 'CustomerID' column.\n",
    "num_unique_customers = df['CustomerID'].nunique()\n",
    "\n",
    "# Print the result indicating the number of unique customers in the dataset.\n",
    "print('The number of unique customers are:', num_unique_customers)"
   ]
  },
  {
   "cell_type": "markdown",
   "id": "e2769aef",
   "metadata": {},
   "source": [
    "2. What is the distribution of the number of orders per customer?"
   ]
  },
  {
   "cell_type": "code",
   "execution_count": 70,
   "id": "a19b2c74",
   "metadata": {},
   "outputs": [
    {
     "name": "stdout",
     "output_type": "stream",
     "text": [
      "The distribution of the number of orders per customer is: 5.07548032936871\n"
     ]
    }
   ],
   "source": [
    "# Calculate the total number of unique transactions/orders in the dataset.\n",
    "transactions = len(df['InvoiceNo'].value_counts())\n",
    "\n",
    "# Calculate the average number of orders per customer.\n",
    "order_per_customer = transactions / num_unique_customers\n",
    "\n",
    "# Print the result indicating the distribution of the number of orders per customer.\n",
    "print('The distribution of the number of orders per customer is:', order_per_customer)"
   ]
  },
  {
   "cell_type": "code",
   "execution_count": 71,
   "id": "1c8cc2ce",
   "metadata": {},
   "outputs": [
    {
     "data": {
      "image/png": "[encoded data removed]",
      "text/plain": [
       "<Figure size 800x600 with 1 Axes>"
      ]
     },
     "metadata": {},
     "output_type": "display_data"
    }
   ],
   "source": [
    "# Group the DataFrame by 'CustomerID' and calculate the number of unique invoices (orders) for each customer.\n",
    "customer_order_counts = df.groupby('CustomerID')['InvoiceNo'].nunique()\n",
    "\n",
    "# Create a histogram to visualize the distribution of the number of orders per customer.\n",
    "plt.figure(figsize=(8, 6))\n",
    "sns.histplot(customer_order_counts, bins=30, kde=True)\n",
    "\n",
    "# Set labels and title for better interpretation.\n",
    "plt.xlabel('Number of Orders per Customer')\n",
    "plt.ylabel('Frequency')\n",
    "plt.title('Distribution of Orders per Customer')\n",
    "\n",
    "# Display the plot.\n",
    "plt.show()"
   ]
  },
  {
   "cell_type": "code",
   "execution_count": 72,
   "id": "22ed3928",
   "metadata": {
    "scrolled": false
   },
   "outputs": [
    {
     "data": {
      "image/png": "[encoded data removed]",
      "text/plain": [
       "<Figure size 1000x800 with 1 Axes>"
      ]
     },
     "metadata": {},
     "output_type": "display_data"
    }
   ],
   "source": [
    "# Group the DataFrame by 'CustomerID' and calculate the number of unique invoices (orders) for each customer.\n",
    "customer_order_counts = df.groupby('CustomerID')['InvoiceNo'].nunique()\n",
    "\n",
    "# Create a box plot to visualize the distribution of the number of orders per customer.\n",
    "plt.figure(figsize=(10, 8))\n",
    "sns.boxplot(y=customer_order_counts)\n",
    "\n",
    "# Set labels and title for better interpretation.\n",
    "plt.ylabel('Number of Orders per Customer')\n",
    "plt.title('Distribution of Orders per Customer (Box Plot)')\n",
    "\n",
    "# Display the plot.\n",
    "plt.show()"
   ]
  },
  {
   "cell_type": "markdown",
   "id": "5811903f",
   "metadata": {},
   "source": [
    "3. Can you identify the top 5 customers who have made the most purchases by order\n",
    "count?"
   ]
  },
  {
   "cell_type": "code",
   "execution_count": 73,
   "id": "20a0c321",
   "metadata": {},
   "outputs": [
    {
     "name": "stdout",
     "output_type": "stream",
     "text": [
      "The top 5 customers are: \n",
      " CustomerID\n",
      "14911.0    248\n",
      "12748.0    224\n",
      "17841.0    169\n",
      "14606.0    128\n",
      "13089.0    118\n",
      "Name: InvoiceNo, dtype: int64\n"
     ]
    }
   ],
   "source": [
    "# Group the DataFrame by 'CustomerID' and calculate the number of unique invoices (orders) for each customer.\n",
    "customer_order_counts = df.groupby('CustomerID')['InvoiceNo'].nunique()\n",
    "\n",
    "# Sort the customers based on the number of orders in descending order.\n",
    "sorted_customers = customer_order_counts.sort_values(ascending=False)\n",
    "\n",
    "# Select the top 5 customers with the highest number of orders.\n",
    "top_5_customers = sorted_customers.head(5)\n",
    "\n",
    "# Print the top 5 customers.\n",
    "print('The top 5 customers are:', '\\n', top_5_customers)"
   ]
  },
  {
   "cell_type": "markdown",
   "id": "db5d5c8e",
   "metadata": {},
   "source": [
    "#### 3. Product Analysis"
   ]
  },
  {
   "cell_type": "markdown",
   "id": "b7476b9f",
   "metadata": {},
   "source": [
    "1. What are the top 10 most frequently purchased products?"
   ]
  },
  {
   "cell_type": "code",
   "execution_count": 74,
   "id": "1137bafd",
   "metadata": {},
   "outputs": [
    {
     "name": "stdout",
     "output_type": "stream",
     "text": [
      "The top products are: \n",
      " WHITE HANGING HEART T-LIGHT HOLDER    2070\n",
      "REGENCY CAKESTAND 3 TIER              1905\n",
      "JUMBO BAG RED RETROSPOT               1662\n",
      "ASSORTED COLOUR BIRD ORNAMENT         1418\n",
      "PARTY BUNTING                         1416\n",
      "LUNCH BAG RED RETROSPOT               1358\n",
      "SET OF 3 CAKE TINS PANTRY DESIGN      1232\n",
      "POSTAGE                               1196\n",
      "LUNCH BAG  BLACK SKULL.               1126\n",
      "PACK OF 72 RETROSPOT CAKE CASES       1080\n",
      "Name: Description, dtype: int64\n"
     ]
    }
   ],
   "source": [
    "# Count the occurrences of each product description and select the top 10.\n",
    "top_products = df['Description'].value_counts().head(10)\n",
    "\n",
    "# Print the top 10 products.\n",
    "print('The top products are:', '\\n', top_products)"
   ]
  },
  {
   "cell_type": "code",
   "execution_count": 75,
   "id": "4863799d",
   "metadata": {},
   "outputs": [
    {
     "data": {
      "text/html": [
       "<div>\n",
       "<style scoped>\n",
       "    .dataframe tbody tr th:only-of-type {\n",
       "        vertical-align: middle;\n",
       "    }\n",
       "\n",
       "    .dataframe tbody tr th {\n",
       "        vertical-align: top;\n",
       "    }\n",
       "\n",
       "    .dataframe thead th {\n",
       "        text-align: right;\n",
       "    }\n",
       "</style>\n",
       "<table border=\"1\" class=\"dataframe\">\n",
       "  <thead>\n",
       "    <tr style=\"text-align: right;\">\n",
       "      <th></th>\n",
       "      <th>InvoiceNo</th>\n",
       "      <th>StockCode</th>\n",
       "      <th>Description</th>\n",
       "      <th>Quantity</th>\n",
       "      <th>InvoiceDate</th>\n",
       "      <th>UnitPrice</th>\n",
       "      <th>CustomerID</th>\n",
       "      <th>Country</th>\n",
       "      <th>DATE</th>\n",
       "    </tr>\n",
       "  </thead>\n",
       "  <tbody>\n",
       "    <tr>\n",
       "      <th>0</th>\n",
       "      <td>536365</td>\n",
       "      <td>85123A</td>\n",
       "      <td>WHITE HANGING HEART T-LIGHT HOLDER</td>\n",
       "      <td>6</td>\n",
       "      <td>12/1/2010 8:26</td>\n",
       "      <td>2.55</td>\n",
       "      <td>17850.0</td>\n",
       "      <td>United Kingdom</td>\n",
       "      <td>2010-12-01 08:26:00</td>\n",
       "    </tr>\n",
       "    <tr>\n",
       "      <th>1</th>\n",
       "      <td>536365</td>\n",
       "      <td>71053</td>\n",
       "      <td>WHITE METAL LANTERN</td>\n",
       "      <td>6</td>\n",
       "      <td>12/1/2010 8:26</td>\n",
       "      <td>3.39</td>\n",
       "      <td>17850.0</td>\n",
       "      <td>United Kingdom</td>\n",
       "      <td>2010-12-01 08:26:00</td>\n",
       "    </tr>\n",
       "    <tr>\n",
       "      <th>2</th>\n",
       "      <td>536365</td>\n",
       "      <td>84406B</td>\n",
       "      <td>CREAM CUPID HEARTS COAT HANGER</td>\n",
       "      <td>8</td>\n",
       "      <td>12/1/2010 8:26</td>\n",
       "      <td>2.75</td>\n",
       "      <td>17850.0</td>\n",
       "      <td>United Kingdom</td>\n",
       "      <td>2010-12-01 08:26:00</td>\n",
       "    </tr>\n",
       "    <tr>\n",
       "      <th>3</th>\n",
       "      <td>536365</td>\n",
       "      <td>84029G</td>\n",
       "      <td>KNITTED UNION FLAG HOT WATER BOTTLE</td>\n",
       "      <td>6</td>\n",
       "      <td>12/1/2010 8:26</td>\n",
       "      <td>3.39</td>\n",
       "      <td>17850.0</td>\n",
       "      <td>United Kingdom</td>\n",
       "      <td>2010-12-01 08:26:00</td>\n",
       "    </tr>\n",
       "    <tr>\n",
       "      <th>4</th>\n",
       "      <td>536365</td>\n",
       "      <td>84029E</td>\n",
       "      <td>RED WOOLLY HOTTIE WHITE HEART.</td>\n",
       "      <td>6</td>\n",
       "      <td>12/1/2010 8:26</td>\n",
       "      <td>3.39</td>\n",
       "      <td>17850.0</td>\n",
       "      <td>United Kingdom</td>\n",
       "      <td>2010-12-01 08:26:00</td>\n",
       "    </tr>\n",
       "  </tbody>\n",
       "</table>\n",
       "</div>"
      ],
      "text/plain": [
       "  InvoiceNo StockCode                          Description  Quantity  \\\n",
       "0    536365    85123A   WHITE HANGING HEART T-LIGHT HOLDER         6   \n",
       "1    536365     71053                  WHITE METAL LANTERN         6   \n",
       "2    536365    84406B       CREAM CUPID HEARTS COAT HANGER         8   \n",
       "3    536365    84029G  KNITTED UNION FLAG HOT WATER BOTTLE         6   \n",
       "4    536365    84029E       RED WOOLLY HOTTIE WHITE HEART.         6   \n",
       "\n",
       "      InvoiceDate  UnitPrice  CustomerID         Country                DATE  \n",
       "0  12/1/2010 8:26       2.55     17850.0  United Kingdom 2010-12-01 08:26:00  \n",
       "1  12/1/2010 8:26       3.39     17850.0  United Kingdom 2010-12-01 08:26:00  \n",
       "2  12/1/2010 8:26       2.75     17850.0  United Kingdom 2010-12-01 08:26:00  \n",
       "3  12/1/2010 8:26       3.39     17850.0  United Kingdom 2010-12-01 08:26:00  \n",
       "4  12/1/2010 8:26       3.39     17850.0  United Kingdom 2010-12-01 08:26:00  "
      ]
     },
     "execution_count": 75,
     "metadata": {},
     "output_type": "execute_result"
    }
   ],
   "source": [
    "# Display the first few rows of the DataFrame\n",
    "df.head()"
   ]
  },
  {
   "cell_type": "markdown",
   "id": "aacff625",
   "metadata": {},
   "source": [
    "2.What is the average price of products in the dataset?"
   ]
  },
  {
   "cell_type": "code",
   "execution_count": 76,
   "id": "76246632",
   "metadata": {},
   "outputs": [
    {
     "name": "stdout",
     "output_type": "stream",
     "text": [
      "The average price of a product is: 3.460471018536043\n"
     ]
    }
   ],
   "source": [
    "# Calculate the total price of all products in the DataFrame.\n",
    "total_price_of_product = df['UnitPrice'].sum()\n",
    "\n",
    "# Get the total number of products in the DataFrame.\n",
    "total_number_of_product = df['StockCode'].size\n",
    "\n",
    "# Calculate the average price of a product.\n",
    "average_price_of_product = total_price_of_product / total_number_of_product\n",
    "\n",
    "# Print the average price of a product.\n",
    "print('The average price of a product is:', average_price_of_product)"
   ]
  },
  {
   "cell_type": "markdown",
   "id": "7cf72725",
   "metadata": {},
   "source": [
    "3.Can you find out which product category generates the highest revenue?"
   ]
  },
  {
   "cell_type": "code",
   "execution_count": 77,
   "id": "c59ec739",
   "metadata": {
    "scrolled": true
   },
   "outputs": [
    {
     "name": "stdout",
     "output_type": "stream",
     "text": [
      "The highest selling product is: Description    ZINC WIRE SWEETHEART LETTER TRAY\n",
      "Cost                                   132870.4\n",
      "dtype: object\n"
     ]
    }
   ],
   "source": [
    "# Calculate the cost for each product and add a new 'Cost' column to the DataFrame.\n",
    "df['Cost'] = df['UnitPrice'] * df['Quantity']\n",
    "\n",
    "# Group by 'Description' and sum the 'Cost' for each product\n",
    "product_revenue = df.groupby('Description')['Cost'].sum().reset_index()\n",
    "\n",
    "# Identify the highest selling product by finding the row where 'Cost' is equal to the maximum 'Cost'.\n",
    "highest_selling_product = product_revenue.max()\n",
    "\n",
    "# Print the result indicating the highest selling product.\n",
    "print(\"The highest selling product is:\", highest_selling_product)"
   ]
  },
  {
   "cell_type": "markdown",
   "id": "f9595564",
   "metadata": {},
   "source": [
    "#### 4. Time Analysis"
   ]
  },
  {
   "cell_type": "markdown",
   "id": "1d1480a2",
   "metadata": {},
   "source": [
    "1. Is there a specific day of the week or time of day when most orders are placed?"
   ]
  },
  {
   "cell_type": "code",
   "execution_count": 78,
   "id": "92b900af",
   "metadata": {},
   "outputs": [],
   "source": [
    "# Extract the day of the week from the 'DATE' column and create a new column 'Day of Week'.\n",
    "df['Day of Week'] = df['DATE'].dt.dayofweek\n",
    "\n",
    "# Extract the hour of the day from the 'DATE' column and create a new column 'Hour of Day'.\n",
    "df['Hour of Day'] = df['DATE'].dt.hour"
   ]
  },
  {
   "cell_type": "code",
   "execution_count": 79,
   "id": "d3a0e349",
   "metadata": {},
   "outputs": [
    {
     "name": "stdout",
     "output_type": "stream",
     "text": [
      "The day of the week with the highest average order amount is: Monday\n",
      "The hour of the day with the highest average order amount is: 19\n"
     ]
    }
   ],
   "source": [
    "# Group the DataFrame by 'Day of Week' and 'Hour of Day', aggregating the sum of 'Cost' and 'Quantity'.\n",
    "df1 = df.groupby(['Day of Week', 'Hour of Day']).agg({'Cost': 'sum', 'Quantity': 'sum'}).reset_index()\n",
    "\n",
    "# Calculate the average order amount and add a new column 'Average Order Amount' to the DataFrame.\n",
    "df1['Average Order Amount'] = df1['Cost'] / df1['Quantity']\n",
    "\n",
    "# Identify the day and hour with the highest average order amount.\n",
    "max_avg_order_day = df1[df1['Average Order Amount'] == df1['Average Order Amount'].max()]['Day of Week'].values[0]\n",
    "max_avg_order_hour = df1[df1['Average Order Amount'] == df1['Average Order Amount'].max()]['Hour of Day'].values[0]\n",
    "\n",
    "# Convert the day of the week to its corresponding name (e.g., 0 -> Monday).\n",
    "max_avg_order_day_name = dt.datetime.strptime(str(max_avg_order_day), '%w').strftime('%A')\n",
    "\n",
    "# Print the results.\n",
    "print(\"The day of the week with the highest average order amount is:\", max_avg_order_day_name)\n",
    "print(\"The hour of the day with the highest average order amount is:\", max_avg_order_hour)"
   ]
  },
  {
   "cell_type": "code",
   "execution_count": 80,
   "id": "e52ac2ae",
   "metadata": {},
   "outputs": [
    {
     "data": {
      "text/plain": [
       "InvoiceNo              object\n",
       "StockCode              object\n",
       "Description            object\n",
       "Quantity                int64\n",
       "InvoiceDate            object\n",
       "UnitPrice             float64\n",
       "CustomerID            float64\n",
       "Country                object\n",
       "DATE           datetime64[ns]\n",
       "Cost                  float64\n",
       "Day of Week             int64\n",
       "Hour of Day             int64\n",
       "dtype: object"
      ]
     },
     "execution_count": 80,
     "metadata": {},
     "output_type": "execute_result"
    }
   ],
   "source": [
    "# Display the data types of each column in the DataFrame.\n",
    "df.dtypes"
   ]
  },
  {
   "cell_type": "markdown",
   "id": "ba9532ea",
   "metadata": {},
   "source": [
    "2. What is the average order processing time?"
   ]
  },
  {
   "cell_type": "markdown",
   "id": "18708e65",
   "metadata": {},
   "source": [
    "To calculate the average order processing time, we would start by identifying the relevant data points within the dataset. Typically, this involves two timestamps: the time the order was placed and the time the order was completed or shipped. The difference between these two timestamps gives the processing time for each order.\n",
    "\n",
    "Once I have the processing times, I can calculate the average by summing all the processing times and dividing by the number of orders. \n",
    "\n",
    "**Python Implementation:**\n",
    "\n",
    "import pandas as pd\n",
    "\n",
    "**Assuming 'df' is a DataFrame with 'order_placed_time' and 'order_completed_time' columns**\n",
    "\n",
    "**First, convert the columns to datetime if they are not already**\n",
    "\n",
    "df['order_placed_time'] = pd.to_datetime(df['order_placed_time'])\n",
    "\n",
    "df['order_completed_time'] = pd.to_datetime(df['order_completed_time'])\n",
    "\n",
    "**Then, calculate the processing time for each order**\n",
    "\n",
    "df['processing_time'] = (df['order_completed_time'] - df['order_placed_time']).dt.total_seconds()\n",
    "\n",
    "**Finally, calculate the average processing time**\n",
    "\n",
    "average_processing_time_seconds = df['processing_time'].mean()\n",
    "\n",
    "average_processing_time = pd.to_timedelta(average_processing_time_seconds, unit='s')\n",
    "\n",
    "print(f\"The average order processing time is: {average_processing_time}\")\n",
    "\n",
    "\n",
    "We ensure that the order times are in datetime format, which allows for accurate arithmetic operations. The processing time for each order is calculated and stored in a new column, processing_time. The mean of this column is the average processing time across all orders. We convert this average from seconds to a more readable format using pd.to_timedelta.\n"
   ]
  },
  {
   "cell_type": "markdown",
   "id": "8b75c360",
   "metadata": {},
   "source": [
    "3. Are there any seasonal trends in the dataset?"
   ]
  },
  {
   "cell_type": "code",
   "execution_count": 81,
   "id": "9b5d8439",
   "metadata": {
    "scrolled": false
   },
   "outputs": [
    {
     "data": {
      "image/png": "[encoded data removed]",
      "text/plain": [
       "<Figure size 800x600 with 1 Axes>"
      ]
     },
     "metadata": {},
     "output_type": "display_data"
    }
   ],
   "source": [
    "# Extract the month from the 'DATE' column and create a new column 'Month'.\n",
    "df['Month'] = df['DATE'].dt.month\n",
    "\n",
    "# Count the number of orders for each month.\n",
    "monthly_orders = df['Month'].value_counts()\n",
    "\n",
    "# Import necessary libraries for data visualization.\n",
    "import matplotlib.pyplot as plt\n",
    "import seaborn as sns\n",
    "\n",
    "# Create a line plot to visualize the monthly order counts.\n",
    "plt.figure(figsize=(8, 6))\n",
    "sns.lineplot(x=monthly_orders.index, y=monthly_orders)\n",
    "\n",
    "# Set labels and title for better interpretation.\n",
    "plt.xlabel('Month')\n",
    "plt.ylabel('Number of Orders')\n",
    "plt.title('Monthly Order Counts')\n",
    "\n",
    "# Display the plot.\n",
    "plt.show()"
   ]
  },
  {
   "cell_type": "code",
   "execution_count": 82,
   "metadata": {},
   "outputs": [
    {
     "data": {
      "image/png": "[encoded data removed]",
      "text/plain": [
       "<Figure size 800x600 with 1 Axes>"
      ]
     },
     "metadata": {},
     "output_type": "display_data"
    }
   ],
   "source": [
    "df['Month'] = df['DATE'].dt.month\n",
    "\n",
    "def get_season(month):\n",
    "    if 3 <= month <= 5:\n",
    "        return 'Spring'\n",
    "    elif 6 <= month <= 8:\n",
    "        return 'Summer'\n",
    "    elif 9 <= month <= 11:\n",
    "        return 'Fall'\n",
    "    else:\n",
    "        return 'Winter'\n",
    "\n",
    "# Create a new column 'Season' by applying the function.\n",
    "df['Season'] = df['Month'].apply(get_season)\n",
    "\n",
    "# Count the number of orders for each season.\n",
    "seasonal_orders = df['Season'].value_counts()\n",
    "\n",
    "# Create a bar plot to visualize the seasonal order counts.\n",
    "plt.figure(figsize=(8, 6))\n",
    "sns.barplot(x=seasonal_orders.index, y=seasonal_orders, order=['Spring', 'Summer', 'Fall', 'Winter'])\n",
    "\n",
    "# Set labels and title for better interpretation.\n",
    "plt.xlabel('Season')\n",
    "plt.ylabel('Number of Orders')\n",
    "plt.title('Seasonal Order Counts')\n",
    "\n",
    "# Display the plot.\n",
    "plt.show()"
   ]
  },
  {
   "cell_type": "markdown",
   "id": "9ff0a892",
   "metadata": {},
   "source": [
    "#### 5. Geographical Analysis"
   ]
  },
  {
   "cell_type": "markdown",
   "id": "277ae2c6",
   "metadata": {},
   "source": [
    "1. Can you determine the top 5 countries with the highest number of orders?"
   ]
  },
  {
   "cell_type": "code",
   "execution_count": 83,
   "id": "3a074b21",
   "metadata": {
    "scrolled": true
   },
   "outputs": [
    {
     "name": "stdout",
     "output_type": "stream",
     "text": [
      "The top 5 countries are: \n",
      "           Country  Number of Orders\n",
      "0  United Kingdom            361878\n",
      "1         Germany              9495\n",
      "2          France              8491\n",
      "3            EIRE              7485\n",
      "4           Spain              2533\n"
     ]
    }
   ],
   "source": [
    "# Group the DataFrame by 'Country' and calculate the total quantity of orders for each country.\n",
    "countries_per_customer = df['Country'].value_counts().reset_index()\n",
    "countries_per_customer.columns = ['Country', 'Number of Orders']\n",
    "\n",
    "# Print the top 5 countries based on order quantity.\n",
    "print(\"The top 5 countries are:\", '\\n', countries_per_customer.head(5))"
   ]
  },
  {
   "cell_type": "markdown",
   "id": "1d78fb68",
   "metadata": {},
   "source": [
    "2. Is there a correlation between the country of the customer and the average order\n",
    "value?"
   ]
  },
  {
   "cell_type": "markdown",
   "id": "0645755c",
   "metadata": {},
   "source": [
    "We would approach the question of whether there is a correlation between the country of the customer and the average order value by conducting a statistical analysis on our dataset. Our dataset would need to contain, at a minimum, the following pieces of information for each transaction: the country of the customer and the value of their order.\n",
    "\n",
    "**Procedure:**\n",
    "\n",
    "1. Data Aggregation:\n",
    "\n",
    "We would group the data by the country of each customer.\n",
    "For each country, we would calculate the average order value.\n",
    "\n",
    "2. Statistical Analysis:\n",
    "\n",
    "We would use a correlation coefficient, such as Pearson's r, to quantify the strength and direction of the relationship between the country categorical variable and the average order values.\n",
    "Given that the country is a categorical variable, we might consider converting it to a numerical form, possibly using one-hot encoding if we wish to use it in a correlation analysis. However, correlation is typically used with numerical variables, so we may need to use alternative methods such as ANOVA to understand if the country has a significant effect on the average order value.\n",
    "\n",
    "3. Data Visualization:\n",
    "\n",
    "To visually inspect the relationship, we would create visualizations such as boxplots to compare the distribution of average order values across different countries.\n",
    "\n",
    "4. Hypothesis Testing:\n",
    "\n",
    "If we find that there appears to be a difference in average order values by country, we might conduct hypothesis testing to determine if the observed differences are statistically significant.\n",
    "\n",
    "\n",
    "**Python Implementation:**\n",
    "\n",
    "**Assuming 'df' is our DataFrame with 'Country' and 'OrderValue' columns**\n",
    "**We would first calculate the average order value for each country**\n",
    "\n",
    "country_order_values = df.groupby('Country')['OrderValue'].mean().reset_index()\n",
    "\n",
    "**Next, we would visualize the results to inspect for potential correlation**\n",
    "\n",
    "plt.figure(figsize=(14, 7))\n",
    "\n",
    "sns.barplot(x='Country', y='OrderValue', data=country_order_values)\n",
    "\n",
    "plt.xticks(rotation=90)\n",
    "\n",
    "plt.xlabel('Country')\n",
    "\n",
    "plt.ylabel('Average Order Value')\n",
    "\n",
    "plt.title('Average Order Value by Country')\n",
    "\n",
    "plt.tight_layout()\n",
    "\n",
    "plt.show()\n"
   ]
  },
  {
   "cell_type": "markdown",
   "id": "64db90c2",
   "metadata": {},
   "source": [
    "#### 6. Payment Analysis"
   ]
  },
  {
   "cell_type": "markdown",
   "id": "c3602ab3",
   "metadata": {},
   "source": [
    "1. What are the most common payment methods used by customers?"
   ]
  },
  {
   "cell_type": "markdown",
   "id": "79770353",
   "metadata": {},
   "source": [
    "**Procedure:**\n",
    "    \n",
    "Data Extraction: We would pull the relevant transaction data, focusing specifically on the payment method field.\n",
    "\n",
    "Data Cleaning: If necessary, we would clean the payment method data to ensure consistency. For example, we would merge similar categories that are essentially the same payment method but may have been entered differently (like \"Credit Card\" and \"CC\").\n",
    "\n",
    "Data Analysis: We would aggregate the data to count the frequency of each payment method.\n",
    "\n",
    "Visualization: We would visualize the data using a bar chart to clearly show which payment methods are most common.\n",
    "\n",
    "Reporting: We would compile our findings into a report, complete with visual aids, to present to the team.\n",
    "\n",
    "**Python Implementation:**\n",
    "\n",
    "**Assuming 'df' is our DataFrame and it includes a 'PaymentMethod' column**\n",
    "**We would start by counting the occurrences of each payment method**\n",
    "\n",
    "payment_method_counts = df['PaymentMethod'].value_counts()\n",
    "\n",
    "**Then, we would create a bar plot to visualize the data**\n",
    "\n",
    "plt.figure(figsize=(10, 6))\n",
    "\n",
    "sns.barplot(x=payment_method_counts.index, y=payment_method_counts.values)\n",
    "\n",
    "plt.title('Most Common Payment Methods Used by Customers')\n",
    "\n",
    "plt.xlabel('Payment Method')\n",
    "\n",
    "plt.ylabel('Frequency')\n",
    "\n",
    "plt.xticks(rotation=45)\n",
    "\n",
    "plt.tight_layout()  # Adjust the plot to ensure everything fits without overlapping\n",
    "\n",
    "plt.show()\n",
    "\n",
    "\n",
    "\n",
    "**Executing this code would generate a bar plot, showing us at a glance which payment methods are most frequently used.**\n"
   ]
  },
  {
   "cell_type": "markdown",
   "id": "32f17c71",
   "metadata": {},
   "source": [
    "2. Is there a relationship between the payment method and the order amount?"
   ]
  },
  {
   "cell_type": "markdown",
   "id": "ba32418e",
   "metadata": {},
   "source": [
    "**Procedure:**\n",
    "\n",
    "Data Preparation:\n",
    "\n",
    "We would ensure that the dataset includes both the payment method and the order amount for each transaction.\n",
    "\n",
    "Statistical Analysis:\n",
    "\n",
    "To determine if there is a relationship, we could use statistical tests. For example, we might perform an ANOVA test if the order amounts are normally distributed or a Kruskal-Wallis test if they are not, to see if there are significant differences in order amounts across different payment methods.\n",
    "\n",
    "Data Visualization:\n",
    "\n",
    "We would visualize the data using boxplots or violin plots to compare the distribution of order amounts across different payment methods.\n",
    "\n",
    "Correlation Coefficient:\n",
    "\n",
    "If we convert the payment methods into numerical codes, we could calculate a correlation coefficient. However, since payment method is a categorical variable, correlation may not be the best measure. Instead, we would focus on comparing the means of each group.\n",
    "\n",
    "**Python Implementation:**\n",
    "\n",
    "import matplotlib.pyplot as plt\n",
    "from scipy.stats import f_oneway  # For ANOVA\n",
    "\n",
    "**Assuming 'df' is our DataFrame with 'PaymentMethod' and 'OrderAmount' columns**\n",
    "**First, visualize the relationship**\n",
    "\n",
    "plt.figure(figsize=(12, 6))\n",
    "\n",
    "sns.boxplot(x='PaymentMethod', y='OrderAmount', data=df)\n",
    "\n",
    "plt.title('Order Amount by Payment Method')\n",
    "\n",
    "plt.xlabel('Payment Method')\n",
    "\n",
    "plt.ylabel('Order Amount')\n",
    "\n",
    "plt.xticks(rotation=45)\n",
    "\n",
    "plt.show()\n",
    "\n",
    "**Then, conduct an ANOVA test to determine if the differences are statistically significant**\n",
    "**We create a list of order amount series for each payment method**\n",
    "order_amounts_by_payment = [group['OrderAmount'].values for name, group in df.groupby('PaymentMethod')]\n",
    "\n",
    "**Perform the ANOVA test**\n",
    "\n",
    "anova_results = f_oneway(*order_amounts_by_payment)\n",
    "\n",
    "print(f\"ANOVA test results - Statistic: {anova_results.statistic}, p-value: {anova_results.pvalue}\")\n",
    "\n",
    "**If the p-value is less than our threshold (commonly 0.05), we conclude that there's a statistically significant difference in order amounts between the payment methods.**\n"
   ]
  },
  {
   "cell_type": "markdown",
   "id": "86898507",
   "metadata": {},
   "source": [
    "#### 7. Customer Behavior"
   ]
  },
  {
   "cell_type": "markdown",
   "id": "b2ff8955",
   "metadata": {},
   "source": [
    "1. How long, on average, do customers remain active (between their first and last\n",
    "purchase)?"
   ]
  },
  {
   "cell_type": "code",
   "execution_count": 84,
   "id": "c686d116",
   "metadata": {},
   "outputs": [
    {
     "name": "stdout",
     "output_type": "stream",
     "text": [
      "Average duration of customer activity: 133 days 17:25:29.204025618\n"
     ]
    }
   ],
   "source": [
    "# Convert the 'InvoiceDate' column to datetime format.\n",
    "df['InvoiceDate'] = pd.to_datetime(df['InvoiceDate'])\n",
    "\n",
    "# Calculate the time difference between the latest and earliest invoice dates for each customer.\n",
    "time_diff_per_customer = df.groupby('CustomerID')['InvoiceDate'].max() - df.groupby('CustomerID')['InvoiceDate'].min()\n",
    "\n",
    "# Calculate the average duration of customer activity.\n",
    "average_duration = time_diff_per_customer.mean()\n",
    "\n",
    "# Print the average duration of customer activity.\n",
    "print(f'Average duration of customer activity: {average_duration}')"
   ]
  },
  {
   "cell_type": "code",
   "execution_count": 85,
   "id": "ae0b46c4",
   "metadata": {},
   "outputs": [
    {
     "name": "stdout",
     "output_type": "stream",
     "text": [
      "Mean of customers remaining active (between their first and last purchase)\n",
      "133.38586459286367\n"
     ]
    }
   ],
   "source": [
    "# Convert the 'InvoiceDate' column to datetime format.\n",
    "df['InvoiceDate'] = pd.to_datetime(df['InvoiceDate'])\n",
    "\n",
    "# Group by 'CustomerID' and calculate the first and last purchase dates.\n",
    "customer_dates = df.groupby('CustomerID')['InvoiceDate'].agg(['min', 'max'])\n",
    "\n",
    "# Calculate the difference in days between the first and last purchase for each customer.\n",
    "customer_dates['active_days'] = (customer_dates['max'] - customer_dates['min']).dt.days\n",
    "\n",
    "# Calculate the average duration of activity across all customers.\n",
    "average_active_days = customer_dates['active_days'].mean()\n",
    "\n",
    "# Print the result indicating the mean of customers remaining active (between their first and last purchase).\n",
    "print(\"Mean of customers remaining active (between their first and last purchase)\")\n",
    "print(average_active_days)"
   ]
  },
  {
   "cell_type": "markdown",
   "id": "f59644ff",
   "metadata": {},
   "source": [
    "2. Are there any customer segments based on their purchase behavior?"
   ]
  },
  {
   "cell_type": "markdown",
   "id": "9cdaa8fa",
   "metadata": {},
   "source": [
    "**Procedure:**\n",
    "\n",
    "Data Collection and Preparation:\n",
    "\n",
    "Gather transactional data that includes customer identifiers, purchase amounts, frequencies, product categories, and any other relevant attributes.\n",
    "Clean and preprocess the data to ensure accuracy and consistency.\n",
    "\n",
    "Feature Engineering:\n",
    "\n",
    "Derive meaningful features that represent customer purchase behavior, such as total spend, average order value, purchase frequency, product preferences, and recency of purchases.\n",
    "\n",
    "Applying RFM Analysis:\n",
    "\n",
    "Implement RFM (Recency, Frequency, Monetary) analysis to create segments based on when customers last purchased (recency), how often they purchase (frequency), and how much they spend (monetary).\n",
    "\n",
    "Advanced Segmentation Techniques:\n",
    "\n",
    "Explore advanced clustering techniques like K-means, hierarchical clustering, or DBSCAN to uncover natural groupings in the data based on the derived features.\n",
    "Determine the optimal number of clusters and analyze the characteristics of each cluster to understand the different segments.\n",
    "\n",
    "Statistical Analysis and Validation:\n",
    "\n",
    "Use statistical methods to validate the clusters and ensure they are distinct and meaningful.\n",
    "Perform ANOVA or similar tests to confirm significant differences between segments.\n",
    "\n",
    "Data Visualization:\n",
    "\n",
    "Visualize the segments using scatter plots, box plots, or other relevant visualizations to understand the distribution of key variables within each segment.\n",
    "\n",
    "Interpretation and Strategy Development:\n",
    "\n",
    "Interpret the results to define each segment's characteristics.\n",
    "Develop strategies tailored to each segment, such as personalized marketing campaigns, product recommendations, or loyalty programs.\n",
    "\n",
    "**Python Implementation:**\n",
    "\n",
    "import pandas as pd\n",
    "from sklearn.cluster import KMeans\n",
    "\n",
    "**Assuming 'df' is our DataFrame with 'CustomerID', 'OrderDate', and 'OrderValue'**\n",
    "\n",
    "**Step 1: Calculate RFM metrics**\n",
    "\n",
    "current_date = df['OrderDate'].max() + pd.Timedelta(days=1)\n",
    "\n",
    "rfm = df.groupby('CustomerID').agg({\n",
    "\n",
    "    'InvoiceDate': lambda x: (current_date - x.max()).days,\n",
    "    \n",
    "    'CustomerID': 'count',\n",
    "    \n",
    "    'OrderValue': 'sum'\n",
    "\n",
    "}).rename(columns={'OrderDate': 'Recency', 'CustomerID': 'Frequency', 'OrderValue': 'Monetary'})\n",
    "\n",
    "**Step 2: Apply K-means clustering**\n",
    "\n",
    "kmeans = KMeans(n_clusters=5, random_state=0)\n",
    "\n",
    "rfm['Segment'] = kmeans.fit_predict(rfm[['Recency', 'Frequency', 'Monetary']])\n",
    "\n",
    "**Step 3: Visualize the segments**\n",
    "\n",
    "sns.pairplot(rfm, hue='Segment')\n",
    "\n",
    "plt.show()\n"
   ]
  },
  {
   "cell_type": "markdown",
   "id": "89c4b342",
   "metadata": {},
   "source": [
    "#### 8. Returns and Refunds"
   ]
  },
  {
   "cell_type": "markdown",
   "id": "a5cafb2e",
   "metadata": {},
   "source": [
    "1. What is the percentage of orders that have experienced returns or refunds?"
   ]
  },
  {
   "cell_type": "markdown",
   "id": "4adcc0f3",
   "metadata": {},
   "source": [
    "**Procedure:**\n",
    "\n",
    "Data Collection:\n",
    "\n",
    "We would ensure that our dataset contains information about each order, specifically whether or not it was returned or refunded. This information might be indicated in a column with boolean values (True/False) or specific status codes.\n",
    "\n",
    "Data Analysis:\n",
    "\n",
    "Calculate the total number of orders and the number of orders that were returned or refunded.\n",
    "The percentage of returned or refunded orders is then calculated as the number of returned/refunded orders divided by the total number of orders, multiplied by 100 to convert it to a percentage.\n",
    "\n",
    "Reporting:\n",
    "\n",
    "We would report this percentage to relevant stakeholders, as it is an important metric for understanding customer satisfaction and operational efficiency.\n",
    "\n",
    "**Python Implementation:**\n",
    "\n",
    "import pandas as pd\n",
    "\n",
    "**Calculate the total number of orders**\n",
    "\n",
    "total_orders = len(df)\n",
    "\n",
    "**Calculate the number of returned or refunded orders**\n",
    "\n",
    "returned_or_refunded_orders = df['ReturnedOrRefunded'].sum()\n",
    "\n",
    "**Calculate the percentage of orders that were returned or refunded**\n",
    "\n",
    "percentage_returned_or_refunded = (returned_or_refunded_orders / total_orders) * 100\n",
    "\n",
    "print(f\"Percentage of Orders Returned or Refunded: {percentage_returned_or_refunded:.2f}%\")\n"
   ]
  },
  {
   "cell_type": "markdown",
   "id": "08d05be6",
   "metadata": {},
   "source": [
    "2. Is there a correlation between the product category and the likelihood of returns"
   ]
  },
  {
   "cell_type": "markdown",
   "id": "82eccb11",
   "metadata": {},
   "source": [
    "import matplotlib.pyplot as plt\n",
    "from scipy.stats import chi2_contingency\n",
    "\n",
    "**Assuming df is our DataFrame with 'ProductCategory' and 'Returned' (boolean) columns**\n",
    "**Calculate return rates for each category**\n",
    "\n",
    "return_counts = df.groupby('Description')['Returned'].sum()\n",
    "\n",
    "sale_counts = df.groupby('Description')['Returned'].count()\n",
    "\n",
    "return_rates = return_counts / sale_counts * 100\n",
    "\n",
    "**Visualize the return rates**\n",
    "\n",
    "plt.figure(figsize=(10, 6))\n",
    "\n",
    "sns.barplot(x=return_rates.index, y=return_rates.values)\n",
    "\n",
    "plt.title('Return Rates by Product Category')\n",
    "\n",
    "plt.xlabel('Product Category')\n",
    "\n",
    "plt.ylabel('Return Rate (%)')\n",
    "\n",
    "plt.xticks(rotation=45)\n",
    "\n",
    "plt.show()\n",
    "\n",
    "**Conduct a Chi-Square test**\n",
    "\n",
    "contingency_table = pd.crosstab(df['Description'], df['Returned'])\n",
    "\n",
    "chi2, p, dof, expected = chi2_contingency(contingency_table)\n",
    "\n",
    "print(f\"Chi-Square test results - Statistic: {chi2}, p-value: {p}\")\n"
   ]
  },
  {
   "cell_type": "markdown",
   "id": "c873e859",
   "metadata": {},
   "source": [
    "#### 9. Profitability Analysis"
   ]
  },
  {
   "cell_type": "markdown",
   "id": "570833a6",
   "metadata": {},
   "source": [
    "1. Can you calculate the total profit generated by the company during the dataset's\n",
    "time period?"
   ]
  },
  {
   "cell_type": "markdown",
   "id": "e601be33",
   "metadata": {},
   "source": [
    "**Calculate total revenue and total cost**\n",
    "\n",
    "total_revenue = df['Revenue'].sum()\n",
    "\n",
    "total_cost = df['UnitPrice'].sum()\n",
    "\n",
    "**Calculate total profit**\n",
    "\n",
    "total_profit = total_revenue - total_cost\n",
    "\n",
    "print(f\"Total Revenue: {total_revenue}\")\n",
    "\n",
    "print(f\"Total Cost: {total_cost}\")\n",
    "\n",
    "print(f\"Total Profit: {total_profit}\")\n"
   ]
  },
  {
   "cell_type": "markdown",
   "id": "09d1ddeb",
   "metadata": {},
   "source": [
    "2. What are the top 5 products with the highest profit margins?"
   ]
  },
  {
   "cell_type": "markdown",
   "id": "49b72b93",
   "metadata": {},
   "source": [
    "**First, calculate the profit margin for each product**\n",
    "\n",
    "df['ProfitMargin'] = (df['Revenue'] - df['Cost']) / df['Revenue']\n",
    "\n",
    "**Then, sort the products by profit margin**\n",
    "\n",
    "sorted_products = df.groupby('Description')['ProfitMargin'].mean().sort_values(ascending=False)\n",
    "\n",
    "**Select the top 5 products**\n",
    "\n",
    "top_5_products = sorted_products.head(5)\n",
    "\n",
    "**Visualize the top 5 products with the highest profit margins**\n",
    "\n",
    "plt.figure(figsize=(10, 6))\n",
    "\n",
    "top_5_products.plot(kind='bar')\n",
    "\n",
    "plt.title('Top 5 Products with the Highest Profit Margins')\n",
    "\n",
    "plt.xlabel('Product')\n",
    "\n",
    "plt.ylabel('Profit Margin')\n",
    "\n",
    "plt.xticks(rotation=45)\n",
    "\n",
    "plt.show()\n"
   ]
  },
  {
   "cell_type": "markdown",
   "id": "ce037110",
   "metadata": {},
   "source": [
    "#### 10. Customer Satisfaction"
   ]
  },
  {
   "cell_type": "markdown",
   "id": "fff8957c",
   "metadata": {},
   "source": [
    "1. Is there any data available on customer feedback or ratings for products or services?"
   ]
  },
  {
   "cell_type": "markdown",
   "id": "15839da8",
   "metadata": {},
   "source": [
    "import matplotlib.pyplot as plt\n",
    "from textblob import TextBlob  # For sentiment analysis\n",
    "\n",
    "**Analyze Numerical Ratings**\n",
    "\n",
    "average_ratings = df.groupby('InvoiceNo')['Rating'].mean()\n",
    "\n",
    "**Sentiment Analysis on Textual Reviews**\n",
    "\n",
    "df['Sentiment'] = df['Review'].apply(lambda x: TextBlob(x).sentiment.polarity)\n",
    "sentiment_summary = df.groupby('InvoiceNo')['Sentiment'].mean()\n",
    "\n",
    "**Visualization**\n",
    "\n",
    "**Average Ratings**\n",
    "\n",
    "plt.figure(figsize=(10, 6))\n",
    "\n",
    "average_ratings.sort_values().plot(kind='bar')\n",
    "\n",
    "plt.title('Average Product Ratings')\n",
    "\n",
    "plt.xlabel('Product ID')\n",
    "\n",
    "plt.ylabel('Average Rating')\n",
    "\n",
    "plt.show()\n",
    "\n",
    "**Sentiment Analysis**\n",
    "\n",
    "plt.figure(figsize=(10, 6))\n",
    "\n",
    "sentiment_summary.sort_values().plot(kind='bar', color='skyblue')\n",
    "\n",
    "plt.title('Average Sentiment Score per Product')\n",
    "\n",
    "plt.xlabel('Product ID')\n",
    "\n",
    "plt.ylabel('Sentiment Score')\n",
    "\n",
    "plt.show()\n"
   ]
  },
  {
   "cell_type": "markdown",
   "id": "b6efac06",
   "metadata": {},
   "source": [
    "2. Can you analyze the sentiment or feedback trends, if available?"
   ]
  },
  {
   "cell_type": "markdown",
   "id": "b75090e8",
   "metadata": {},
   "source": [
    "import pandas as pd\n",
    "from textblob import TextBlob\n",
    "\n",
    "**Step 1: Sentiment Analysis**\n",
    "\n",
    "df['Sentiment'] = df['Feedback'].apply(lambda x: TextBlob(x).sentiment.polarity)\n",
    "\n",
    "**Step 2: Trend Analysis**\n",
    "\n",
    "df['InvoiceDate'] = pd.to_datetime(df['InvoiceDate'])\n",
    "\n",
    "df.set_index('Date', inplace=True)\n",
    "\n",
    "monthly_sentiment = df.resample('M')['Sentiment'].mean()\n",
    "\n",
    "**Visualization**\n",
    "\n",
    "**Sentiment Trend Over Time**\n",
    "\n",
    "plt.figure(figsize=(12, 6))\n",
    "\n",
    "monthly_sentiment.plot()\n",
    "\n",
    "plt.title('Monthly Sentiment Trend')\n",
    "\n",
    "plt.xlabel('Month')\n",
    "\n",
    "plt.ylabel('Average Sentiment')\n",
    "\n",
    "plt.show()\n"
   ]
  },
  {
   "cell_type": "code",
   "execution_count": 86,
   "id": "ea9b16be",
   "metadata": {},
   "outputs": [
    {
     "data": {
      "text/html": [
       "<div>\n",
       "<style scoped>\n",
       "    .dataframe tbody tr th:only-of-type {\n",
       "        vertical-align: middle;\n",
       "    }\n",
       "\n",
       "    .dataframe tbody tr th {\n",
       "        vertical-align: top;\n",
       "    }\n",
       "\n",
       "    .dataframe thead th {\n",
       "        text-align: right;\n",
       "    }\n",
       "</style>\n",
       "<table border=\"1\" class=\"dataframe\">\n",
       "  <thead>\n",
       "    <tr style=\"text-align: right;\">\n",
       "      <th></th>\n",
       "      <th>InvoiceNo</th>\n",
       "      <th>StockCode</th>\n",
       "      <th>Description</th>\n",
       "      <th>Quantity</th>\n",
       "      <th>InvoiceDate</th>\n",
       "      <th>UnitPrice</th>\n",
       "      <th>CustomerID</th>\n",
       "      <th>Country</th>\n",
       "      <th>DATE</th>\n",
       "      <th>Cost</th>\n",
       "      <th>Day of Week</th>\n",
       "      <th>Hour of Day</th>\n",
       "      <th>Month</th>\n",
       "      <th>Season</th>\n",
       "    </tr>\n",
       "  </thead>\n",
       "  <tbody>\n",
       "    <tr>\n",
       "      <th>0</th>\n",
       "      <td>536365</td>\n",
       "      <td>85123A</td>\n",
       "      <td>WHITE HANGING HEART T-LIGHT HOLDER</td>\n",
       "      <td>6</td>\n",
       "      <td>2010-12-01 08:26:00</td>\n",
       "      <td>2.55</td>\n",
       "      <td>17850.0</td>\n",
       "      <td>United Kingdom</td>\n",
       "      <td>2010-12-01 08:26:00</td>\n",
       "      <td>15.3</td>\n",
       "      <td>2</td>\n",
       "      <td>8</td>\n",
       "      <td>12</td>\n",
       "      <td>Winter</td>\n",
       "    </tr>\n",
       "  </tbody>\n",
       "</table>\n",
       "</div>"
      ],
      "text/plain": [
       "  InvoiceNo StockCode                         Description  Quantity  \\\n",
       "0    536365    85123A  WHITE HANGING HEART T-LIGHT HOLDER         6   \n",
       "\n",
       "          InvoiceDate  UnitPrice  CustomerID         Country  \\\n",
       "0 2010-12-01 08:26:00       2.55     17850.0  United Kingdom   \n",
       "\n",
       "                 DATE  Cost  Day of Week  Hour of Day  Month  Season  \n",
       "0 2010-12-01 08:26:00  15.3            2            8     12  Winter  "
      ]
     },
     "execution_count": 86,
     "metadata": {},
     "output_type": "execute_result"
    }
   ],
   "source": [
    "# Display the first row of the DataFrame\n",
    "df.head(1)"
   ]
  },
  {
   "cell_type": "markdown",
   "id": "fee3b138",
   "metadata": {},
   "source": [
    "## RFM Calculation:"
   ]
  },
  {
   "cell_type": "code",
   "execution_count": 87,
   "id": "ad49749f",
   "metadata": {},
   "outputs": [
    {
     "data": {
      "text/html": [
       "<div>\n",
       "<style scoped>\n",
       "    .dataframe tbody tr th:only-of-type {\n",
       "        vertical-align: middle;\n",
       "    }\n",
       "\n",
       "    .dataframe tbody tr th {\n",
       "        vertical-align: top;\n",
       "    }\n",
       "\n",
       "    .dataframe thead th {\n",
       "        text-align: right;\n",
       "    }\n",
       "</style>\n",
       "<table border=\"1\" class=\"dataframe\">\n",
       "  <thead>\n",
       "    <tr style=\"text-align: right;\">\n",
       "      <th></th>\n",
       "      <th>CustomerID</th>\n",
       "      <th>DATE</th>\n",
       "      <th>Recency</th>\n",
       "      <th>Frequency</th>\n",
       "      <th>Monetary</th>\n",
       "    </tr>\n",
       "  </thead>\n",
       "  <tbody>\n",
       "    <tr>\n",
       "      <th>0</th>\n",
       "      <td>12346.0</td>\n",
       "      <td>2011-01-18 10:17:00</td>\n",
       "      <td>325</td>\n",
       "      <td>2</td>\n",
       "      <td>0.00</td>\n",
       "    </tr>\n",
       "    <tr>\n",
       "      <th>1</th>\n",
       "      <td>12347.0</td>\n",
       "      <td>2011-12-07 15:52:00</td>\n",
       "      <td>1</td>\n",
       "      <td>182</td>\n",
       "      <td>4310.00</td>\n",
       "    </tr>\n",
       "    <tr>\n",
       "      <th>2</th>\n",
       "      <td>12348.0</td>\n",
       "      <td>2011-09-25 13:13:00</td>\n",
       "      <td>74</td>\n",
       "      <td>31</td>\n",
       "      <td>1797.24</td>\n",
       "    </tr>\n",
       "    <tr>\n",
       "      <th>3</th>\n",
       "      <td>12349.0</td>\n",
       "      <td>2011-11-21 09:51:00</td>\n",
       "      <td>18</td>\n",
       "      <td>73</td>\n",
       "      <td>1757.55</td>\n",
       "    </tr>\n",
       "    <tr>\n",
       "      <th>4</th>\n",
       "      <td>12350.0</td>\n",
       "      <td>2011-02-02 16:01:00</td>\n",
       "      <td>309</td>\n",
       "      <td>17</td>\n",
       "      <td>334.40</td>\n",
       "    </tr>\n",
       "  </tbody>\n",
       "</table>\n",
       "</div>"
      ],
      "text/plain": [
       "   CustomerID                DATE  Recency  Frequency  Monetary\n",
       "0     12346.0 2011-01-18 10:17:00      325          2      0.00\n",
       "1     12347.0 2011-12-07 15:52:00        1        182   4310.00\n",
       "2     12348.0 2011-09-25 13:13:00       74         31   1797.24\n",
       "3     12349.0 2011-11-21 09:51:00       18         73   1757.55\n",
       "4     12350.0 2011-02-02 16:01:00      309         17    334.40"
      ]
     },
     "execution_count": 87,
     "metadata": {},
     "output_type": "execute_result"
    }
   ],
   "source": [
    "# Step 2: Calculating Recency\n",
    "current_date = max(df['DATE'])\n",
    "recency = df.groupby('CustomerID')['DATE'].max().reset_index()\n",
    "recency['Recency'] = (current_date - recency['DATE']).dt.days\n",
    "\n",
    "# Step 3: Calculating Frequency\n",
    "frequency = df.groupby('CustomerID')['DATE'].count().reset_index()\n",
    "frequency.columns = ['CustomerID', 'Frequency']\n",
    "\n",
    "# Step 4: Calculating Monetary\n",
    "monetary = df.groupby('CustomerID')['Cost'].sum().reset_index()\n",
    "monetary.columns = ['CustomerID', 'Monetary']\n",
    "\n",
    "# Combining RFM Scores\n",
    "rfm = recency.merge(frequency, on='CustomerID').merge(monetary, on='CustomerID')\n",
    "\n",
    "# Displaying the RFM table\n",
    "rfm.head()"
   ]
  },
  {
   "cell_type": "code",
   "execution_count": 89,
   "id": "9a89f37b",
   "metadata": {},
   "outputs": [],
   "source": [
    "#Ignore 0 in Monatery so we will not need those customers as they add no value to the company\n",
    "rfm = rfm[rfm['Monetary']>0]"
   ]
  },
  {
   "cell_type": "markdown",
   "id": "df3e328a",
   "metadata": {},
   "source": [
    "## RFM Segmentation:"
   ]
  },
  {
   "cell_type": "code",
   "execution_count": 92,
   "id": "0ddcead7",
   "metadata": {},
   "outputs": [
    {
     "data": {
      "text/html": [
       "<div>\n",
       "<style scoped>\n",
       "    .dataframe tbody tr th:only-of-type {\n",
       "        vertical-align: middle;\n",
       "    }\n",
       "\n",
       "    .dataframe tbody tr th {\n",
       "        vertical-align: top;\n",
       "    }\n",
       "\n",
       "    .dataframe thead th {\n",
       "        text-align: right;\n",
       "    }\n",
       "</style>\n",
       "<table border=\"1\" class=\"dataframe\">\n",
       "  <thead>\n",
       "    <tr style=\"text-align: right;\">\n",
       "      <th></th>\n",
       "      <th>CustomerID</th>\n",
       "      <th>DATE</th>\n",
       "      <th>Recency</th>\n",
       "      <th>Frequency</th>\n",
       "      <th>Monetary</th>\n",
       "      <th>Recency_Score</th>\n",
       "      <th>Frequency_Score</th>\n",
       "      <th>Monetary_Score</th>\n",
       "      <th>RFM_Score</th>\n",
       "    </tr>\n",
       "  </thead>\n",
       "  <tbody>\n",
       "    <tr>\n",
       "      <th>1</th>\n",
       "      <td>12347.0</td>\n",
       "      <td>2011-12-07 15:52:00</td>\n",
       "      <td>1</td>\n",
       "      <td>182</td>\n",
       "      <td>4310.00</td>\n",
       "      <td>5</td>\n",
       "      <td>5</td>\n",
       "      <td>5</td>\n",
       "      <td>555</td>\n",
       "    </tr>\n",
       "    <tr>\n",
       "      <th>2</th>\n",
       "      <td>12348.0</td>\n",
       "      <td>2011-09-25 13:13:00</td>\n",
       "      <td>74</td>\n",
       "      <td>31</td>\n",
       "      <td>1797.24</td>\n",
       "      <td>2</td>\n",
       "      <td>3</td>\n",
       "      <td>4</td>\n",
       "      <td>234</td>\n",
       "    </tr>\n",
       "    <tr>\n",
       "      <th>3</th>\n",
       "      <td>12349.0</td>\n",
       "      <td>2011-11-21 09:51:00</td>\n",
       "      <td>18</td>\n",
       "      <td>73</td>\n",
       "      <td>1757.55</td>\n",
       "      <td>4</td>\n",
       "      <td>4</td>\n",
       "      <td>4</td>\n",
       "      <td>444</td>\n",
       "    </tr>\n",
       "    <tr>\n",
       "      <th>4</th>\n",
       "      <td>12350.0</td>\n",
       "      <td>2011-02-02 16:01:00</td>\n",
       "      <td>309</td>\n",
       "      <td>17</td>\n",
       "      <td>334.40</td>\n",
       "      <td>1</td>\n",
       "      <td>2</td>\n",
       "      <td>2</td>\n",
       "      <td>122</td>\n",
       "    </tr>\n",
       "    <tr>\n",
       "      <th>5</th>\n",
       "      <td>12352.0</td>\n",
       "      <td>2011-11-03 14:37:00</td>\n",
       "      <td>35</td>\n",
       "      <td>95</td>\n",
       "      <td>1545.41</td>\n",
       "      <td>3</td>\n",
       "      <td>4</td>\n",
       "      <td>4</td>\n",
       "      <td>344</td>\n",
       "    </tr>\n",
       "  </tbody>\n",
       "</table>\n",
       "</div>"
      ],
      "text/plain": [
       "   CustomerID                DATE  Recency  Frequency  Monetary Recency_Score  \\\n",
       "1     12347.0 2011-12-07 15:52:00        1        182   4310.00             5   \n",
       "2     12348.0 2011-09-25 13:13:00       74         31   1797.24             2   \n",
       "3     12349.0 2011-11-21 09:51:00       18         73   1757.55             4   \n",
       "4     12350.0 2011-02-02 16:01:00      309         17    334.40             1   \n",
       "5     12352.0 2011-11-03 14:37:00       35         95   1545.41             3   \n",
       "\n",
       "  Frequency_Score Monetary_Score RFM_Score  \n",
       "1               5              5       555  \n",
       "2               3              4       234  \n",
       "3               4              4       444  \n",
       "4               2              2       122  \n",
       "5               4              4       344  "
      ]
     },
     "execution_count": 92,
     "metadata": {},
     "output_type": "execute_result"
    }
   ],
   "source": [
    "# recency score and monetary score  : 1=bad , 5 = good\n",
    "# freq score : 5=bad , 1 = good\n",
    "rfm[\"Recency_Score\"]=pd.qcut(rfm[\"Recency\"],5,labels=[5,4,3,2,1,])\n",
    "rfm[\"Frequency_Score\"]=pd.qcut(rfm[\"Frequency\"].rank(method=\"first\"),5,labels=[1,2,3,4,5])\n",
    "rfm[\"Monetary_Score\"]=pd.qcut(rfm[\"Monetary\"],5,labels=[1,2,3,4,5])\n",
    "rfm[\"RFM_Score\"]=(rfm[\"Recency_Score\"].astype(str)+rfm[\"Frequency_Score\"].astype(str)+rfm[\"Monetary_Score\"].astype(str))\n",
    "rfm_data = rfm[['Recency_Score', 'Frequency_Score', 'Monetary_Score']]\n",
    "rfm=rfm.sort_values(\"CustomerID\",ascending=True)\n",
    "rfm.head()"
   ]
  },
  {
   "cell_type": "code",
   "execution_count": 93,
   "id": "3880195e",
   "metadata": {},
   "outputs": [
    {
     "data": {
      "image/png": "[encoded data removed]",
      "text/plain": [
       "<Figure size 640x480 with 1 Axes>"
      ]
     },
     "metadata": {},
     "output_type": "display_data"
    }
   ],
   "source": [
    "# Create a count plot to visualize the distribution of RFM scores.\n",
    "sns.countplot(x='RFM_Score', data=rfm, order=rfm['RFM_Score'].value_counts().index)\n",
    "\n",
    "# Set title and adjust x-axis labels for better readability.\n",
    "plt.title('RFM Score Distribution')\n",
    "plt.xticks(rotation=90)\n",
    "\n",
    "# Display the plot.\n",
    "plt.show()"
   ]
  },
  {
   "cell_type": "code",
   "execution_count": 94,
   "id": "76978747",
   "metadata": {},
   "outputs": [
    {
     "data": {
      "image/png": "[encoded data removed]",
      "text/plain": [
       "<Figure size 640x480 with 2 Axes>"
      ]
     },
     "metadata": {},
     "output_type": "display_data"
    }
   ],
   "source": [
    "# Creating a pivot table for the heatmap\n",
    "rfm_pivot = rfm.pivot_table(index='Recency_Score', columns='Frequency_Score', values='Monetary_Score', aggfunc='count')\n",
    "\n",
    "sns.heatmap(rfm_pivot, cmap='BuGn')\n",
    "plt.title('Heatmap of RFM Scores')\n",
    "plt.show()"
   ]
  },
  {
   "cell_type": "code",
   "execution_count": 95,
   "id": "261a964c",
   "metadata": {},
   "outputs": [
    {
     "data": {
      "image/png": "[encoded data removed]",
      "text/plain": [
       "<Figure size 640x480 with 2 Axes>"
      ]
     },
     "metadata": {},
     "output_type": "display_data"
    }
   ],
   "source": [
    "# Mapping scores to integers for color differentiation\n",
    "rfm['Recency_Score_Num'] = rfm['Recency_Score'].astype(int)\n",
    "rfm['Frequency_Score_Num'] = rfm['Frequency_Score'].astype(int)\n",
    "\n",
    "plt.scatter(rfm['Recency_Score_Num'], rfm['Frequency_Score_Num'], c=rfm['Monetary_Score'].astype(int))\n",
    "plt.colorbar()\n",
    "plt.xlabel('Recency Score')\n",
    "plt.ylabel('Frequency Score')\n",
    "plt.title('RFM Segments')\n",
    "plt.show()"
   ]
  },
  {
   "cell_type": "markdown",
   "id": "8bf7a63b",
   "metadata": {},
   "source": [
    "## 4. Customer Segmentation:"
   ]
  },
  {
   "cell_type": "code",
   "execution_count": 96,
   "id": "0c59bf7b",
   "metadata": {},
   "outputs": [
    {
     "data": {
      "image/png": "[encoded data removed]",
      "text/plain": [
       "<Figure size 800x600 with 1 Axes>"
      ]
     },
     "metadata": {},
     "output_type": "display_data"
    }
   ],
   "source": [
    "# Standardize the data (important for K-Means)\n",
    "scaler = StandardScaler()\n",
    "rfm_scaled = scaler.fit_transform(rfm_data)\n",
    "\n",
    "# Determine the optimal number of clusters using the Elbow Method\n",
    "inertia = []\n",
    "for k in range(1, 11):\n",
    "    kmeans = KMeans(n_clusters=k, random_state=42)\n",
    "    kmeans.fit(rfm_scaled)\n",
    "    inertia.append(kmeans.inertia_)\n",
    "\n",
    "# Plot the Elbow Method to find the optimal number of clusters\n",
    "plt.figure(figsize=(8, 6))\n",
    "plt.plot(range(1, 11), inertia, marker='o', linestyle='--')\n",
    "plt.title('Elbow Method for Optimal k')\n",
    "plt.xlabel('Number of Clusters (k)')\n",
    "plt.ylabel('Inertia')\n",
    "plt.show()\n"
   ]
  },
  {
   "cell_type": "code",
   "execution_count": 97,
   "id": "73464b83",
   "metadata": {},
   "outputs": [],
   "source": [
    "#optimal number of cluster is 4 according to the elbow method"
   ]
  },
  {
   "cell_type": "code",
   "execution_count": 98,
   "id": "6fe068ad",
   "metadata": {},
   "outputs": [
    {
     "data": {
      "text/html": [
       "<div>\n",
       "<style scoped>\n",
       "    .dataframe tbody tr th:only-of-type {\n",
       "        vertical-align: middle;\n",
       "    }\n",
       "\n",
       "    .dataframe tbody tr th {\n",
       "        vertical-align: top;\n",
       "    }\n",
       "\n",
       "    .dataframe thead th {\n",
       "        text-align: right;\n",
       "    }\n",
       "</style>\n",
       "<table border=\"1\" class=\"dataframe\">\n",
       "  <thead>\n",
       "    <tr style=\"text-align: right;\">\n",
       "      <th></th>\n",
       "      <th>CustomerID</th>\n",
       "      <th>DATE</th>\n",
       "      <th>Recency</th>\n",
       "      <th>Frequency</th>\n",
       "      <th>Monetary</th>\n",
       "      <th>Recency_Score</th>\n",
       "      <th>Frequency_Score</th>\n",
       "      <th>Monetary_Score</th>\n",
       "      <th>RFM_Score</th>\n",
       "      <th>Recency_Score_Num</th>\n",
       "      <th>Frequency_Score_Num</th>\n",
       "      <th>Cluster</th>\n",
       "    </tr>\n",
       "  </thead>\n",
       "  <tbody>\n",
       "    <tr>\n",
       "      <th>1</th>\n",
       "      <td>12347.0</td>\n",
       "      <td>2011-12-07 15:52:00</td>\n",
       "      <td>1</td>\n",
       "      <td>182</td>\n",
       "      <td>4310.00</td>\n",
       "      <td>5</td>\n",
       "      <td>5</td>\n",
       "      <td>5</td>\n",
       "      <td>555</td>\n",
       "      <td>5</td>\n",
       "      <td>5</td>\n",
       "      <td>0</td>\n",
       "    </tr>\n",
       "    <tr>\n",
       "      <th>2</th>\n",
       "      <td>12348.0</td>\n",
       "      <td>2011-09-25 13:13:00</td>\n",
       "      <td>74</td>\n",
       "      <td>31</td>\n",
       "      <td>1797.24</td>\n",
       "      <td>2</td>\n",
       "      <td>3</td>\n",
       "      <td>4</td>\n",
       "      <td>234</td>\n",
       "      <td>2</td>\n",
       "      <td>3</td>\n",
       "      <td>3</td>\n",
       "    </tr>\n",
       "    <tr>\n",
       "      <th>3</th>\n",
       "      <td>12349.0</td>\n",
       "      <td>2011-11-21 09:51:00</td>\n",
       "      <td>18</td>\n",
       "      <td>73</td>\n",
       "      <td>1757.55</td>\n",
       "      <td>4</td>\n",
       "      <td>4</td>\n",
       "      <td>4</td>\n",
       "      <td>444</td>\n",
       "      <td>4</td>\n",
       "      <td>4</td>\n",
       "      <td>0</td>\n",
       "    </tr>\n",
       "    <tr>\n",
       "      <th>4</th>\n",
       "      <td>12350.0</td>\n",
       "      <td>2011-02-02 16:01:00</td>\n",
       "      <td>309</td>\n",
       "      <td>17</td>\n",
       "      <td>334.40</td>\n",
       "      <td>1</td>\n",
       "      <td>2</td>\n",
       "      <td>2</td>\n",
       "      <td>122</td>\n",
       "      <td>1</td>\n",
       "      <td>2</td>\n",
       "      <td>1</td>\n",
       "    </tr>\n",
       "    <tr>\n",
       "      <th>5</th>\n",
       "      <td>12352.0</td>\n",
       "      <td>2011-11-03 14:37:00</td>\n",
       "      <td>35</td>\n",
       "      <td>95</td>\n",
       "      <td>1545.41</td>\n",
       "      <td>3</td>\n",
       "      <td>4</td>\n",
       "      <td>4</td>\n",
       "      <td>344</td>\n",
       "      <td>3</td>\n",
       "      <td>4</td>\n",
       "      <td>3</td>\n",
       "    </tr>\n",
       "  </tbody>\n",
       "</table>\n",
       "</div>"
      ],
      "text/plain": [
       "   CustomerID                DATE  Recency  Frequency  Monetary Recency_Score  \\\n",
       "1     12347.0 2011-12-07 15:52:00        1        182   4310.00             5   \n",
       "2     12348.0 2011-09-25 13:13:00       74         31   1797.24             2   \n",
       "3     12349.0 2011-11-21 09:51:00       18         73   1757.55             4   \n",
       "4     12350.0 2011-02-02 16:01:00      309         17    334.40             1   \n",
       "5     12352.0 2011-11-03 14:37:00       35         95   1545.41             3   \n",
       "\n",
       "  Frequency_Score Monetary_Score RFM_Score  Recency_Score_Num  \\\n",
       "1               5              5       555                  5   \n",
       "2               3              4       234                  2   \n",
       "3               4              4       444                  4   \n",
       "4               2              2       122                  1   \n",
       "5               4              4       344                  3   \n",
       "\n",
       "   Frequency_Score_Num  Cluster  \n",
       "1                    5        0  \n",
       "2                    3        3  \n",
       "3                    4        0  \n",
       "4                    2        1  \n",
       "5                    4        3  "
      ]
     },
     "execution_count": 98,
     "metadata": {},
     "output_type": "execute_result"
    }
   ],
   "source": [
    "\n",
    "# Applying K-means with the optimal number of clusters\n",
    "optimal_k = 4\n",
    "kmeans = KMeans(n_clusters=optimal_k, init='k-means++',n_init=10, random_state=42)\n",
    "rfm['Cluster'] = kmeans.fit_predict(rfm_scaled)\n",
    "\n",
    "# Displaying the RFM table with clusters\n",
    "rfm.head()"
   ]
  },
  {
   "cell_type": "code",
   "execution_count": 99,
   "id": "f7c5354a",
   "metadata": {},
   "outputs": [
    {
     "data": {
      "image/png": "[encoded data removed]",
      "text/plain": [
       "<Figure size 800x600 with 1 Axes>"
      ]
     },
     "metadata": {},
     "output_type": "display_data"
    }
   ],
   "source": [
    "# Create a scatter plot to visualize customer segmentation using the RFM model.\n",
    "plt.figure(figsize=(8, 6))\n",
    "sns.scatterplot(x='Recency', y='Frequency', hue='Cluster', data=rfm, palette='Spectral', s=100)\n",
    "\n",
    "# Set labels and title for better interpretation.\n",
    "plt.title('Customer Segmentation using RFM Model')\n",
    "plt.xlabel('Recency')\n",
    "plt.ylabel('Frequency')\n",
    "\n",
    "# Add legend for the 'Cluster' variable.\n",
    "plt.legend(title='Cluster')\n",
    "\n",
    "# Display the plot.\n",
    "plt.show()"
   ]
  },
  {
   "cell_type": "markdown",
   "id": "3c5fdd30",
   "metadata": {},
   "source": [
    "## 5. Segment Profiling:"
   ]
  },
  {
   "cell_type": "code",
   "execution_count": 100,
   "id": "224bbe7b",
   "metadata": {},
   "outputs": [],
   "source": [
    "def get_group(RFM_Score):\n",
    "    \"\"\"\n",
    "    Categorizes customers into different groups based on their RFM (Recency, Frequency, Monetary) scores.\n",
    "\n",
    "    Parameters:\n",
    "    - RFM_Score (str): RFM score string, e.g., '344' representing Recency=3, Frequency=4, Monetary=4.\n",
    "\n",
    "    Returns:\n",
    "    - str: Customer group label based on RFM score.\n",
    "    \"\"\"\n",
    "    if RFM_Score == '144':\n",
    "        return 'Best Customers'\n",
    "    elif RFM_Score == '344':\n",
    "        return 'Almost Lost'\n",
    "    elif RFM_Score == '444':\n",
    "        return 'Lost Big Spenders'\n",
    "    elif RFM_Score == '441':\n",
    "        return 'Lost Minimal Spenders'\n",
    "    elif RFM_Score[1] == '4':\n",
    "        return 'Loyal Customers'\n",
    "    elif RFM_Score[2] == '4':\n",
    "        return 'Big Spenders'\n",
    "    else:\n",
    "        return 'Normal'"
   ]
  },
  {
   "cell_type": "code",
   "execution_count": 101,
   "id": "0985f18c",
   "metadata": {},
   "outputs": [
    {
     "data": {
      "text/html": [
       "<div>\n",
       "<style scoped>\n",
       "    .dataframe tbody tr th:only-of-type {\n",
       "        vertical-align: middle;\n",
       "    }\n",
       "\n",
       "    .dataframe tbody tr th {\n",
       "        vertical-align: top;\n",
       "    }\n",
       "\n",
       "    .dataframe thead th {\n",
       "        text-align: right;\n",
       "    }\n",
       "</style>\n",
       "<table border=\"1\" class=\"dataframe\">\n",
       "  <thead>\n",
       "    <tr style=\"text-align: right;\">\n",
       "      <th></th>\n",
       "      <th>CustomerID</th>\n",
       "      <th>DATE</th>\n",
       "      <th>Recency</th>\n",
       "      <th>Frequency</th>\n",
       "      <th>Monetary</th>\n",
       "      <th>Recency_Score</th>\n",
       "      <th>Frequency_Score</th>\n",
       "      <th>Monetary_Score</th>\n",
       "      <th>RFM_Score</th>\n",
       "      <th>Recency_Score_Num</th>\n",
       "      <th>Frequency_Score_Num</th>\n",
       "      <th>Cluster</th>\n",
       "      <th>Segment</th>\n",
       "    </tr>\n",
       "  </thead>\n",
       "  <tbody>\n",
       "    <tr>\n",
       "      <th>1</th>\n",
       "      <td>12347.0</td>\n",
       "      <td>2011-12-07 15:52:00</td>\n",
       "      <td>1</td>\n",
       "      <td>182</td>\n",
       "      <td>4310.00</td>\n",
       "      <td>5</td>\n",
       "      <td>5</td>\n",
       "      <td>5</td>\n",
       "      <td>555</td>\n",
       "      <td>5</td>\n",
       "      <td>5</td>\n",
       "      <td>0</td>\n",
       "      <td>Normal</td>\n",
       "    </tr>\n",
       "    <tr>\n",
       "      <th>2</th>\n",
       "      <td>12348.0</td>\n",
       "      <td>2011-09-25 13:13:00</td>\n",
       "      <td>74</td>\n",
       "      <td>31</td>\n",
       "      <td>1797.24</td>\n",
       "      <td>2</td>\n",
       "      <td>3</td>\n",
       "      <td>4</td>\n",
       "      <td>234</td>\n",
       "      <td>2</td>\n",
       "      <td>3</td>\n",
       "      <td>3</td>\n",
       "      <td>Big Spenders</td>\n",
       "    </tr>\n",
       "    <tr>\n",
       "      <th>3</th>\n",
       "      <td>12349.0</td>\n",
       "      <td>2011-11-21 09:51:00</td>\n",
       "      <td>18</td>\n",
       "      <td>73</td>\n",
       "      <td>1757.55</td>\n",
       "      <td>4</td>\n",
       "      <td>4</td>\n",
       "      <td>4</td>\n",
       "      <td>444</td>\n",
       "      <td>4</td>\n",
       "      <td>4</td>\n",
       "      <td>0</td>\n",
       "      <td>Lost Big Spenders</td>\n",
       "    </tr>\n",
       "    <tr>\n",
       "      <th>4</th>\n",
       "      <td>12350.0</td>\n",
       "      <td>2011-02-02 16:01:00</td>\n",
       "      <td>309</td>\n",
       "      <td>17</td>\n",
       "      <td>334.40</td>\n",
       "      <td>1</td>\n",
       "      <td>2</td>\n",
       "      <td>2</td>\n",
       "      <td>122</td>\n",
       "      <td>1</td>\n",
       "      <td>2</td>\n",
       "      <td>1</td>\n",
       "      <td>Normal</td>\n",
       "    </tr>\n",
       "    <tr>\n",
       "      <th>5</th>\n",
       "      <td>12352.0</td>\n",
       "      <td>2011-11-03 14:37:00</td>\n",
       "      <td>35</td>\n",
       "      <td>95</td>\n",
       "      <td>1545.41</td>\n",
       "      <td>3</td>\n",
       "      <td>4</td>\n",
       "      <td>4</td>\n",
       "      <td>344</td>\n",
       "      <td>3</td>\n",
       "      <td>4</td>\n",
       "      <td>3</td>\n",
       "      <td>Almost Lost</td>\n",
       "    </tr>\n",
       "  </tbody>\n",
       "</table>\n",
       "</div>"
      ],
      "text/plain": [
       "   CustomerID                DATE  Recency  Frequency  Monetary Recency_Score  \\\n",
       "1     12347.0 2011-12-07 15:52:00        1        182   4310.00             5   \n",
       "2     12348.0 2011-09-25 13:13:00       74         31   1797.24             2   \n",
       "3     12349.0 2011-11-21 09:51:00       18         73   1757.55             4   \n",
       "4     12350.0 2011-02-02 16:01:00      309         17    334.40             1   \n",
       "5     12352.0 2011-11-03 14:37:00       35         95   1545.41             3   \n",
       "\n",
       "  Frequency_Score Monetary_Score RFM_Score  Recency_Score_Num  \\\n",
       "1               5              5       555                  5   \n",
       "2               3              4       234                  2   \n",
       "3               4              4       444                  4   \n",
       "4               2              2       122                  1   \n",
       "5               4              4       344                  3   \n",
       "\n",
       "   Frequency_Score_Num  Cluster            Segment  \n",
       "1                    5        0             Normal  \n",
       "2                    3        3       Big Spenders  \n",
       "3                    4        0  Lost Big Spenders  \n",
       "4                    2        1             Normal  \n",
       "5                    4        3        Almost Lost  "
      ]
     },
     "execution_count": 101,
     "metadata": {},
     "output_type": "execute_result"
    }
   ],
   "source": [
    "# Applying the get_group function to create a new 'Segment' column based on 'RFM_Score'.\n",
    "rfm['Segment'] = rfm['RFM_Score'].apply(get_group)\n",
    "\n",
    "# Display the first few rows of the DataFrame with the newly added 'Segment' column.\n",
    "rfm.head()"
   ]
  },
  {
   "cell_type": "code",
   "execution_count": 102,
   "id": "ef7ccba9",
   "metadata": {},
   "outputs": [
    {
     "data": {
      "image/png": "[encoded data removed]",
      "text/plain": [
       "<Figure size 1000x600 with 1 Axes>"
      ]
     },
     "metadata": {},
     "output_type": "display_data"
    }
   ],
   "source": [
    "# Apply the get_group function to create a new 'Group' column\n",
    "rfm['Group'] = rfm['RFM_Score'].apply(get_group)\n",
    "\n",
    "# Visualize the distribution of the RFM groups\n",
    "plt.figure(figsize=(10, 6))\n",
    "sns.countplot(y='Group', data=rfm, order=rfm['Group'].value_counts().index)\n",
    "plt.title('Distribution of Customer Groups')\n",
    "plt.xlabel('Number of Customers')\n",
    "plt.ylabel('Group')\n",
    "plt.tight_layout()\n",
    "plt.show()"
   ]
  },
  {
   "cell_type": "code",
   "execution_count": 103,
   "id": "d4b7a41c",
   "metadata": {},
   "outputs": [
    {
     "name": "stdout",
     "output_type": "stream",
     "text": [
      "Normal                   2994\n",
      "Loyal Customers           637\n",
      "Big Spenders              464\n",
      "Lost Big Spenders         106\n",
      "Almost Lost                94\n",
      "Best Customers             22\n",
      "Lost Minimal Spenders       5\n",
      "Name: Group, dtype: int64\n"
     ]
    }
   ],
   "source": [
    "# Print the value counts for the 'Group' column.\n",
    "print(rfm['Group'].value_counts())"
   ]
  },
  {
   "cell_type": "markdown",
   "id": "01752ea4",
   "metadata": {},
   "source": [
    "## 6. Marketing Recommendations:"
   ]
  },
  {
   "cell_type": "markdown",
   "id": "55c18a1a",
   "metadata": {},
   "source": [
    "Based on the visualizations generated, that outline the distribution of customer segments, their RFM (Recency, Frequency, Monetary) scores, and the clustering of these segments, here are actionable marketing recommendations for each customer segment to improve customer retention and maximize revenue:\n",
    "\n",
    "**Normal (Largest Segment):**\n",
    "\n",
    "Strategy: Convert 'Normal' customers into more engaged segments through targeted communications and introductory offers.\n",
    "Actionable Steps: Implement a customer education campaign about the benefits of more frequent purchases, offer incentives for frequent shopping, and personalized product recommendations based on browsing behavior.\n",
    "\n",
    "**Loyal Customers:**\n",
    "\n",
    "Strategy: Maintain their high purchase frequency with rewards and recognition.\n",
    "Actionable Steps: Offer a loyalty program with points or discounts, exclusive access to sales, and engage them with brand storytelling to deepen their emotional connection to the brand.\n",
    "\n",
    "**Big Spenders:**\n",
    "\n",
    "Strategy: Encourage larger basket sizes and premium product purchases.\n",
    "Actionable Steps: Upsell and cross-sell premium products or services, provide bundle offers, and create high-value tailored content that resonates with their willingness to spend more.\n",
    "\n",
    "**Lost Big Spenders:**\n",
    "\n",
    "Strategy: Re-engage to understand their disengagement and reintroduce them to the brand.\n",
    "Actionable Steps: Send out personalized re-engagement campaigns, survey to understand why they left, and offer a we-miss-you discount or gift with purchase to incentivize their return.\n",
    "\n",
    "**Almost Lost:**\n",
    "\n",
    "Strategy: Win back these customers before they lapse with urgency-triggering campaigns.\n",
    "Actionable Steps: Implement a win-back email series with time-sensitive offers, highlight product improvements or new arrivals, and offer a limited-time welcome back discount.\n",
    "\n",
    "**Best Customers:**\n",
    "\n",
    "Strategy: Foster exclusivity and premium experiences to retain their high-value status.\n",
    "Actionable Steps: Provide VIP service, exclusive events or content, early access to new products, and high-engagement experiences that exceed expectations.\n",
    "\n",
    "**Lost Minimal Spenders:**\n",
    "\n",
    "Strategy: Do not invest heavily but keep the door open for their return.\n",
    "Actionable Steps: Include them in mass-market campaigns, offer self-service tools for re-engagement, and maintain a brand presence in their lives without significant marketing spend."
   ]
  },
  {
   "cell_type": "markdown",
   "id": "cf564060",
   "metadata": {},
   "source": [
    "The bubble chart of RFM segments suggests varying levels of engagement across different RFM scores. The heatmap indicates the density of customers within specific RFM score combinations, which can be used to tailor the intensity of marketing efforts.\n",
    "\n",
    "Lastly, the RFM score distribution shows us the spread of customer engagement. We can leverage this information to focus our efforts on moving customers from lower RFM scores to higher ones through personalized marketing strategies that consider their unique behaviors and value to the company.\n",
    "\n",
    "All strategies should be continuously monitored and optimized based on customer response and feedback to ensure the best return on investment and customer satisfaction."
   ]
  }
 ],
 "metadata": {
  "kernelspec": {
   "display_name": "Python 3 (ipykernel)",
   "language": "python",
   "name": "python3"
  },
  "language_info": {
   "codemirror_mode": {
    "name": "ipython",
    "version": 3
   },
   "file_extension": ".py",
   "mimetype": "text/x-python",
   "name": "python",
   "nbconvert_exporter": "python",
   "pygments_lexer": "ipython3",
   "version": "3.11.4"
  }
 },
 "nbformat": 4,
 "nbformat_minor": 5
}
